{
  "nbformat": 4,
  "nbformat_minor": 0,
  "metadata": {
    "colab": {
      "name": "Chu_Liu_Edmonds.ipynb",
      "version": "0.3.2",
      "provenance": [],
      "collapsed_sections": [
        "WDVy9bg6T_Ur",
        "I8NwOaGmoKAR"
      ]
    },
    "kernelspec": {
      "name": "python3",
      "display_name": "Python 3"
    }
  },
  "cells": [
    {
      "metadata": {
        "id": "EYJsImAYkADY",
        "colab_type": "text"
      },
      "cell_type": "markdown",
      "source": [
        "# **Start**"
      ]
    },
    {
      "metadata": {
        "id": "7NpaZ5A3VcBg",
        "colab_type": "text"
      },
      "cell_type": "markdown",
      "source": [
        "* **Import**"
      ]
    },
    {
      "metadata": {
        "id": "oXnLuw-Kk09o",
        "colab_type": "code",
        "outputId": "69c86a80-51f4-4957-8c9d-d4167ff49353",
        "colab": {
          "base_uri": "https://localhost:8080/",
          "height": 54
        }
      },
      "cell_type": "code",
      "source": [
        "import sys\n",
        "\n",
        "import numpy as np\n",
        "import keras\n",
        "from keras.models import Model, Sequential\n",
        "from keras.layers import Input, Dense"
      ],
      "execution_count": 0,
      "outputs": [
        {
          "output_type": "stream",
          "text": [
            "Using TensorFlow backend.\n"
          ],
          "name": "stderr"
        }
      ]
    },
    {
      "metadata": {
        "id": "FiDml_VSg0I8",
        "colab_type": "text"
      },
      "cell_type": "markdown",
      "source": [
        "* **Google drive**"
      ]
    },
    {
      "metadata": {
        "id": "2XkIwIi5xEY9",
        "colab_type": "code",
        "outputId": "a1c42273-b0b9-466c-be72-7b3c2cc58edb",
        "colab": {
          "base_uri": "https://localhost:8080/",
          "height": 122
        }
      },
      "cell_type": "code",
      "source": [
        "import os\n",
        "\n",
        "from google.colab import drive\n",
        "drive.mount('drive')\n",
        "\n",
        "!mkdir -p drive -v\n",
        "\n",
        "cwd = os.getcwd()"
      ],
      "execution_count": 0,
      "outputs": [
        {
          "output_type": "stream",
          "text": [
            "Go to this URL in a browser: https://accounts.google.com/o/oauth2/auth?client_id=947318989803-6bn6qk8qdgf4n4g3pfee6491hc0brc4i.apps.googleusercontent.com&redirect_uri=urn%3Aietf%3Awg%3Aoauth%3A2.0%3Aoob&scope=email%20https%3A%2F%2Fwww.googleapis.com%2Fauth%2Fdocs.test%20https%3A%2F%2Fwww.googleapis.com%2Fauth%2Fdrive%20https%3A%2F%2Fwww.googleapis.com%2Fauth%2Fdrive.photos.readonly%20https%3A%2F%2Fwww.googleapis.com%2Fauth%2Fpeopleapi.readonly&response_type=code\n",
            "\n",
            "Enter your authorization code:\n",
            "··········\n",
            "Mounted at drive\n"
          ],
          "name": "stdout"
        }
      ]
    },
    {
      "metadata": {
        "id": "hmTvgAR-gRbm",
        "colab_type": "code",
        "colab": {}
      },
      "cell_type": "code",
      "source": [
        "monchemin = 'drive/My Drive/Traitement de la langue/'\n",
        "\n",
        "dir_path  = os.path.join(cwd, monchemin)\n",
        "dirs = os.listdir(dir_path)\n",
        "os.chdir(dir_path)"
      ],
      "execution_count": 0,
      "outputs": []
    },
    {
      "metadata": {
        "id": "4m2O2VoIlAhw",
        "colab_type": "text"
      },
      "cell_type": "markdown",
      "source": [
        "* **Chemin vers les fichiers**"
      ]
    },
    {
      "metadata": {
        "id": "qFp6AS9Wk9Dy",
        "colab_type": "code",
        "outputId": "9eaff23d-fa71-44de-b6d1-a09221924ce3",
        "colab": {
          "base_uri": "https://localhost:8080/",
          "height": 309
        }
      },
      "cell_type": "code",
      "source": [
        "path_jap = 'UD_Japanese-Modern/'\n",
        "path_fr = 'UD_French-GSD/'\n",
        "path_en = 'UD_English-LinES/'\n",
        "path_nl = 'UD_Dutch-LassySmall/'\n",
        "\n",
        "print(\"\\nDossier fichiers JAP :\")\n",
        "!ls \"$path_jap\" | grep \".conllu\"\n",
        "jap_test = \"ja_modern-ud-test.conllu\"\n",
        "\n",
        "print(\"\\nDossier fichiers FR :\")\n",
        "!ls \"$path_fr\" | grep \".conllu\"\n",
        "fr_dev = \"fr_gsd-ud-dev.conllu\"\n",
        "fr_test = \"fr_gsd-ud-test.conllu\"\n",
        "fr_train = \"fr_gsd-ud-train.conllu\"\n",
        "\n",
        "print(\"\\nDossier fichiers EN :\")\n",
        "!ls \"$path_en\" | grep \".conllu\"\n",
        "en_dev = \"en_lines-ud-dev.conllu\"\n",
        "en_test = \"en_lines-ud-test.conllu\"\n",
        "en_train = \"en_lines-ud-train.conllu\"\n",
        "\n",
        "print(\"\\nDossier fichiers NL :\")\n",
        "!ls \"$path_du\" | grep \".conllu\"\n",
        "nl_dev = \"nl_lassysmall-ud-dev.conllu\"\n",
        "nl_test = \"nl_lassysmall-ud-test.conllu\"\n",
        "nl_train = \"nl_lassysmall-ud-train.conllu\""
      ],
      "execution_count": 0,
      "outputs": [
        {
          "output_type": "stream",
          "text": [
            "\n",
            "Dossier fichiers JAP :\n",
            "ja_modern-ud-test.conllu\n",
            "\n",
            "Dossier fichiers FR :\n",
            "fr_gsd-ud-dev.conllu\n",
            "fr_gsd-ud-test.conllu\n",
            "fr_gsd-ud-train.conllu\n",
            "\n",
            "Dossier fichiers EN :\n",
            "en_lines-ud-dev.conllu\n",
            "en_lines-ud-test.conllu\n",
            "en_lines-ud-train.conllu\n",
            "\n",
            "Dossier fichiers NL :\n",
            "ls: cannot access '': No such file or directory\n"
          ],
          "name": "stdout"
        }
      ]
    },
    {
      "metadata": {
        "id": "gAVRo29RqYYt",
        "colab_type": "text"
      },
      "cell_type": "markdown",
      "source": [
        "# Tables importantes"
      ]
    },
    {
      "metadata": {
        "id": "aZVh8LCP9wXa",
        "colab_type": "text"
      },
      "cell_type": "markdown",
      "source": [
        "* **Table des chemins de tous les fichiers**"
      ]
    },
    {
      "metadata": {
        "id": "7cCVRBBs9wR9",
        "colab_type": "code",
        "colab": {}
      },
      "cell_type": "code",
      "source": [
        "liste_file = [\n",
        "    path_en+en_dev,\n",
        "    path_en+en_test,\n",
        "    path_en+en_train,\n",
        "    path_fr+fr_dev,\n",
        "    path_fr+fr_test,\n",
        "    path_fr+fr_train,\n",
        "    path_nl+nl_dev,\n",
        "    path_nl+nl_test,\n",
        "    path_nl+nl_train,\n",
        "    path_jap+jap_test\n",
        "]"
      ],
      "execution_count": 0,
      "outputs": []
    },
    {
      "metadata": {
        "id": "K9hcb48Kqf8j",
        "colab_type": "text"
      },
      "cell_type": "markdown",
      "source": [
        "* **Table pour la lecture des fichiers CoNLL**"
      ]
    },
    {
      "metadata": {
        "id": "dFgNPpbcqgcF",
        "colab_type": "code",
        "colab": {}
      },
      "cell_type": "code",
      "source": [
        "mcd =[('INDEX', 'INT'), ('FORM', 'INT'), ('LEMMA', 'INT'), ('POS', 'SYM'), ('X1', 'INT'), ('MORPHO', 'INT'), ('GOV', 'SYM'), ('LABEL', 'SYM'), ('X2', 'SYM'), ('X3', 'SYM')]"
      ],
      "execution_count": 0,
      "outputs": []
    },
    {
      "metadata": {
        "id": "vUyaDMJZqi_M",
        "colab_type": "text"
      },
      "cell_type": "markdown",
      "source": [
        "* **Table des différentes parties de discours**"
      ]
    },
    {
      "metadata": {
        "id": "RiDNqusgqi5H",
        "colab_type": "code",
        "colab": {}
      },
      "cell_type": "code",
      "source": [
        "POS = {\n",
        "    \"ADJ\": 0,\n",
        "    \"ADP\": 1,\n",
        "    \"ADV\": 2,\n",
        "    \"AUX\": 3,\n",
        "    \"CCONJ\": 4,\n",
        "    \"DET\": 5,\n",
        "    \"INTJ\": 6,\n",
        "    \"NOUN\": 7,\n",
        "    \"NUM\": 8,\n",
        "    \"PART\": 9,\n",
        "    \"PRON\": 10,\n",
        "    \"PROPN\": 11,\n",
        "    \"PUNCT\": 12,\n",
        "    \"SCONJ\": 13,\n",
        "    \"SYM\": 14,\n",
        "    \"VERB\": 15,\n",
        "    \"X\": 16,\n",
        "    \"ROOT\": 17\n",
        "}\n"
      ],
      "execution_count": 0,
      "outputs": []
    },
    {
      "metadata": {
        "id": "voVIUy4Pqith",
        "colab_type": "text"
      },
      "cell_type": "markdown",
      "source": [
        "* **Table des différents labels**"
      ]
    },
    {
      "metadata": {
        "id": "gDXWj4FkqinK",
        "colab_type": "code",
        "colab": {}
      },
      "cell_type": "code",
      "source": [
        "LABEL = {\n",
        "    \"acl\": 0,\n",
        "    \"acl:relcl\": 1,\n",
        "    \"advcl\": 2,\n",
        "    \"advcl:cleft\": 3,\n",
        "    \"advmod\": 4,\n",
        "    \"amod\": 5,\n",
        "    \"appos\": 6,\n",
        "    \"aux\": 7,\n",
        "    \"aux:caus\": 8,\n",
        "    \"aux:pass\": 9,\n",
        "    \"case\": 10,\n",
        "    \"cc\": 11,\n",
        "    \"ccomp\": 12,\n",
        "    \"compound\": 13,\n",
        "    \"compound:prt\": 14,\n",
        "    \"conj\": 15,\n",
        "    \"cop\": 16,\n",
        "    \"csubj\": 17,\n",
        "    \"csubj:pass\": 18,\n",
        "    \"dep\": 19,\n",
        "    \"det\": 20,\n",
        "    \"discourse\": 21,\n",
        "    \"dislocated\": 22,\n",
        "    \"expl\": 23,\n",
        "    \"expl:pass\": 24,\n",
        "    \"expl:pv\": 25,\n",
        "    \"fixed\": 26,\n",
        "    \"flat\": 27,\n",
        "    \"flat:foreign\": 28,\n",
        "    \"flat:name\": 29,\n",
        "    \"goeswith\": 30,\n",
        "    \"iobj\": 31,\n",
        "    \"iobj:agent\": 32,\n",
        "    \"mark\": 33,\n",
        "    \"nmod\": 34,\n",
        "    \"nmod:poss\": 35,\n",
        "    \"nmod:range\": 36,\n",
        "    \"nsubj\": 37,\n",
        "    \"nsubj:caus\": 38,\n",
        "    \"nsubj:pass\": 39,\n",
        "    \"nummod\": 40,\n",
        "    \"obj\": 41,\n",
        "    \"obj:agent\": 42,\n",
        "    \"obl\": 43,\n",
        "    \"obl:agent\": 44,\n",
        "    \"obl:arg\": 45,\n",
        "    \"obl:mod\": 46,\n",
        "    \"orphan\": 47,\n",
        "    \"parataxis\": 48,\n",
        "    \"punct\": 49,\n",
        "    \"reparandum\": 50,\n",
        "    \"root\": 51,\n",
        "    \"vocative\": 52,\n",
        "    \"xcomp\": 53\n",
        "}"
      ],
      "execution_count": 0,
      "outputs": []
    },
    {
      "metadata": {
        "id": "T_QPMx92dzw2",
        "colab_type": "text"
      },
      "cell_type": "markdown",
      "source": [
        "# Lecture des fichiers"
      ]
    },
    {
      "metadata": {
        "id": "ZyohJge7nJEF",
        "colab_type": "text"
      },
      "cell_type": "markdown",
      "source": [
        "## **Class Word**"
      ]
    },
    {
      "metadata": {
        "id": "IJw3jZa3nInZ",
        "colab_type": "code",
        "colab": {}
      },
      "cell_type": "code",
      "source": [
        "class Word:\n",
        "  def __init__(self):\n",
        "    self.featDic = {}\n",
        "\n",
        "  def getFeat(self, featName):\n",
        "    if(not featName in self.featDic):\n",
        "      print('WARNING : feat', featName, 'does not exist')\n",
        "      return None\n",
        "    else:\n",
        "      return self.featDic[featName]\n",
        "\n",
        "  def setFeat(self, featName, featValue):\n",
        "    self.featDic[featName] = featValue\n",
        "\n",
        "  def affiche(self, mcd):\n",
        "    for elt in mcd:\n",
        "      feat, status = elt\n",
        "      print(self.getFeat(feat), '\\t', end='')\n",
        "    print('')\n",
        "\n",
        "        \n",
        "  @staticmethod\n",
        "  def fakeWord(mcd):\n",
        "    w = Word()\n",
        "    for elt in mcd:\n",
        "      feat, status = elt\n",
        "      w.setFeat(feat, 'ROOT')\n",
        "    return w\n",
        "\n",
        "  @staticmethod\n",
        "  def invalidGov():\n",
        "    return 123456789\n",
        "\n",
        "  @staticmethod\n",
        "  def invalidLabel():\n",
        "    return ''"
      ],
      "execution_count": 0,
      "outputs": []
    },
    {
      "metadata": {
        "id": "ZLS0R6d52MOz",
        "colab_type": "text"
      },
      "cell_type": "markdown",
      "source": [
        "## **Class WordBuffer**"
      ]
    },
    {
      "metadata": {
        "id": "s3jJWVuO2bTW",
        "colab_type": "code",
        "colab": {}
      },
      "cell_type": "code",
      "source": [
        "class WordBuffer:\n",
        "  def __init__(self, mcd=None):\n",
        "    self.currentIndex = 0\n",
        "    self.array = []\n",
        "    self.length = 0\n",
        "    self.mcd = mcd\n",
        "\n",
        "  def addWord(self, w):\n",
        "    self.array.append(w)\n",
        "    self.length += 1\n",
        "\n",
        "  def affiche(self, mcd):\n",
        "    for w in self.array:\n",
        "      w.affiche(mcd)\n",
        "\n",
        "  def getLength(self):\n",
        "    return self.length\n",
        "\n",
        "  def getCurrentIndex(self):\n",
        "    return self.currentIndex\n",
        "\n",
        "  def getWord(self, index):\n",
        "    return self.array[index]\n",
        "\n",
        "  def getCurrentWord(self):\n",
        "    return self.getWord(self.currentIndex)\n",
        "\n",
        "  def nextSentence(self):\n",
        "    sentence = []\n",
        "    sentence.append(Word.fakeWord(self.mcd))\n",
        "    if self.currentIndex == self.length - 1 :\n",
        "      return False\n",
        "    while self.currentIndex < self.length :\n",
        "      sentence.append(self.getCurrentWord())\n",
        "      if int(self.getCurrentWord().getFeat('EOS')) == 1 :\n",
        "        self.currentIndex += 1\n",
        "        return sentence\n",
        "      else:\n",
        "        self.currentIndex += 1\n",
        "\n",
        "  def readFromMcfFile(self, mcfFilename):\n",
        "    try:\n",
        "      mcfFile = open(mcfFilename, encoding='utf-8')\n",
        "    except IOError:\n",
        "      print(mcfFilename, \" : ce fichier n'existe pas\")\n",
        "      exit(1)\n",
        "    tokens = []\n",
        "    for ligne in mcfFile:\n",
        "      tokens = ligne.split(\"\\t\")\n",
        "      w = Word()\n",
        "      for i in range(0, len(tokens)):\n",
        "        if(self.mcd[i][0] == 'GOV'):\n",
        "          w.setFeat(self.mcd[i][0], tokens[i])\n",
        "          w.setFeat('GOVABS', str(self.length + int(tokens[i]))) # compute absolute index of governor\n",
        "        else:\n",
        "          w.setFeat(self.mcd[i][0], tokens[i])\n",
        "      self.addWord(w)\n",
        "    mcfFile.close();\n",
        "\n",
        "  def readFromConlluFile(self, conlluFilename):\n",
        "    try:\n",
        "      conlluFile = open(conlluFilename, encoding='utf-8')\n",
        "    except IOError:\n",
        "      print(conlluFilename, \" : ce fichier n'existe pas\")\n",
        "      exit(1)\n",
        "    tokens = []\n",
        "    for ligne in conlluFile:\n",
        "      if ligne[0] == '\\n' :\n",
        "        self.getWord(self.currentIndex - 1).setFeat('EOS', '1')\n",
        "        next\n",
        "      elif ligne[0] == '#' :\n",
        "        next\n",
        "      else :\n",
        "        tokens = ligne.split(\"\\t\")\n",
        "        if '-' not in tokens[0]:\n",
        "          w = Word()\n",
        "          for i in range(0, len(tokens)):\n",
        "            if i == 0 :\n",
        "              w.setFeat('INDEX', tokens[i])\n",
        "            if i == 1 :\n",
        "              w.setFeat('FORM', tokens[i])\n",
        "            if i == 2 :\n",
        "              w.setFeat('LEMMA', tokens[i])\n",
        "            if i == 3 :\n",
        "              w.setFeat('POS', tokens[i])\n",
        "            if i == 4 :\n",
        "              w.setFeat('X1', tokens[i])\n",
        "            if i == 5 :\n",
        "              w.setFeat('MORPHO', tokens[i])\n",
        "            if i == 6 :\n",
        "              w.setFeat('GOV', tokens[i])\n",
        "            if i == 7 :\n",
        "              w.setFeat('LABEL', tokens[i])\n",
        "            if i == 8 :\n",
        "              w.setFeat('X2', tokens[i])\n",
        "            if i == 9 :\n",
        "              w.setFeat('X3', tokens[i])\n",
        "          w.setFeat('EOS', '0')\n",
        "          self.addWord(w)\n",
        "    conlluFile.close();\n",
        "\n",
        "  def end(self):\n",
        "    if(self.getCurrentIndex() >= self.getLength()):\n",
        "      return True\n",
        "    else:\n",
        "      return False"
      ],
      "execution_count": 0,
      "outputs": []
    },
    {
      "metadata": {
        "id": "nUTkFYgq_4OG",
        "colab_type": "text"
      },
      "cell_type": "markdown",
      "source": [
        "## Class Dico"
      ]
    },
    {
      "metadata": {
        "id": "EBIf-M05__9T",
        "colab_type": "code",
        "colab": {}
      },
      "cell_type": "code",
      "source": [
        "class Dicos:\n",
        "  def __init__(self, mcd=False, fileName=False, verbose=False):\n",
        "    self.content = {}\n",
        "    self.locked = False\n",
        "    if mcd :\n",
        "      for elt in mcd :\n",
        "        name, status = elt;\n",
        "        if(status == 'SYM') : \n",
        "          self.content[name] = ['NULL', 'ROOT']\n",
        "    elif fileName :\n",
        "      try:\n",
        "        dicoFile = open(fileName, encoding='utf-8')\n",
        "      except IOError:\n",
        "        print(fileName, 'does not exist')\n",
        "        exit(1)\n",
        "      for ligne in dicoFile:\n",
        "        if ligne[0] == '#' and ligne[1] == '#' :\n",
        "          currentDico = ligne[2:-1]\n",
        "          self.content[currentDico] = []\n",
        "          if(verbose): \n",
        "            print('in module', __name__, 'create dico', currentDico)\n",
        "        else:\n",
        "          value = ligne[:-1]\n",
        "          if not value in self.content[currentDico] :\n",
        "            self.content[currentDico].append(value)\n",
        "            if(verbose): \n",
        "              print('in module', __name__, 'adding entry', value, 'to', currentDico)\n",
        "      dicoFile.close()\n",
        "      self.lock()\n",
        "\n",
        "\n",
        "  def populateFromMcfFile(self, mcfFilename, mcd, verbose=False):\n",
        "    try:\n",
        "      mcfFile = open(mcfFilename, encoding='utf-8')\n",
        "    except IOError:\n",
        "      print('cannot open', mcfFilename)\n",
        "      exit(1)\n",
        "    tokens = []\n",
        "    for ligne in mcfFile:\n",
        "      tokens = ligne.split()\n",
        "      for i in range(0, len(tokens)):\n",
        "        if mcd[i][1] == 'SYM' :\n",
        "          if not tokens[i] in self.content[mcd[i][0]] :\n",
        "            self.content[mcd[i][0]].append(tokens[i])\n",
        "            if(verbose): \n",
        "              print('in module:', __name__, 'adding value ', tokens[i], 'to dico', mcd[i][0]) \n",
        "    mcfFile.close();\n",
        "    for e in self.content:\n",
        "      print('DICO', e, ':\\t', len(self.content[e]), 'entries')\n",
        "\n",
        "  def populateFromConlluFile(self, conlluFilename, verbose=False):\n",
        "    try:\n",
        "      conlluFile = open(conlluFilename, encoding='utf-8')\n",
        "    except IOError:\n",
        "      print('cannot open', conlluFilename)\n",
        "      exit(1)\n",
        "    mcd = (('INDEX', 'INT'), ('FORM', 'INT'), ('LEMMA', 'INT'), ('POS', 'SYM'), ('X1', 'INT'), ('MORPHO', 'INT'), ('GOV', 'SYM'), ('LABEL', 'SYM'), ('X2', 'SYM'), ('X3', 'SYM'))\n",
        "    tokens = []\n",
        "    for ligne in conlluFile:\n",
        "      if ligne[0] != '\\n' and ligne[0] != '#' :\n",
        "        tokens = ligne.split(\"\\t\")\n",
        "        for i in range(0, len(tokens)):\n",
        "          if mcd[i][1] == 'SYM' :\n",
        "            if not tokens[i] in self.content[mcd[i][0]] :\n",
        "              self.content[mcd[i][0]].append(tokens[i])\n",
        "              if(verbose): \n",
        "                print('in module:', __name__, 'adding value ', tokens[i], 'to dico', mcd[i][0]) \n",
        "    conlluFile.close();\n",
        "    for e in self.content:\n",
        "      print('DICO', e, ':\\t', len(self.content[e]), 'entries')\n",
        "\n",
        "  def lock(self):\n",
        "    self.locked = True\n",
        "    for key in self.content.keys():\n",
        "      self.content[key] = tuple(self.content[key])\n",
        "\n",
        "  def print(self):\n",
        "    for dico in self.content.keys():\n",
        "      print(dico, self.content[dico])\n",
        "\n",
        "  def printToFile(self, filename):\n",
        "    try:\n",
        "      dicoFile = open(filename, 'w', encoding='utf-8')\n",
        "    except IOError:\n",
        "      print('cannot open', filename)\n",
        "      exit(1)\n",
        "    for dico in self.content.keys():\n",
        "      dicoFile.write('##')\n",
        "      dicoFile.write(dico)\n",
        "      dicoFile.write('\\n')\n",
        "      for elt in self.content[dico]:\n",
        "        dicoFile.write(elt)\n",
        "        dicoFile.write('\\n')\n",
        "    dicoFile.close()\n",
        "\n",
        "  def getCode(self, dicoName, symbol, verbose=False) :\n",
        "    if(verbose) : print('in module ', __name__, 'getCode(', dicoName, ',', symbol, ')')\n",
        "    if not self.locked :\n",
        "      print('Dicos must be locked before they can be accessed')\n",
        "      return False\n",
        "    if not dicoName in self.content :\n",
        "      print('no such dico as', dicoName)\n",
        "      return False\n",
        "    return self.content[dicoName].index(symbol)\n",
        "\n",
        "  def getSymbol(self, dicoName, code) :\n",
        "    if not self.locked :\n",
        "      print('Dicos must be locked before they can be accessed')\n",
        "      return False\n",
        "    if not dicoName in self.content :\n",
        "      print('no such dico as', dicoName)\n",
        "      return False\n",
        "    return self.content[dicoName][code]\n",
        "\n",
        "  def add(self, dicoName, symbol) :\n",
        "    if not dicoName in self.content :\n",
        "      self.content[dicoName] = {symbol}\n",
        "    else:\n",
        "      self.content[dicoName].add(symbol)"
      ],
      "execution_count": 0,
      "outputs": []
    },
    {
      "metadata": {
        "id": "hLApcVwoICqy",
        "colab_type": "text"
      },
      "cell_type": "markdown",
      "source": [
        "## Test"
      ]
    },
    {
      "metadata": {
        "id": "g7thw8siIG4u",
        "colab_type": "text"
      },
      "cell_type": "markdown",
      "source": [
        "* **Word / WordBuffer**"
      ]
    },
    {
      "metadata": {
        "id": "KCX_CJY3IGKt",
        "colab_type": "code",
        "outputId": "8b6a4bcb-e5d2-4d53-8651-06f093ef1429",
        "colab": {
          "base_uri": "https://localhost:8080/",
          "height": 649
        }
      },
      "cell_type": "code",
      "source": [
        "wb = WordBuffer(mcd);\n",
        "wb.readFromConlluFile(path_fr+fr_dev);\n",
        "\n",
        "\n",
        "def printSentence(sentence, mcd):\n",
        "    for i in range(0, len(sentence)):\n",
        "        sentence[i].affiche(mcd)\n",
        "\n",
        "        \n",
        "sentence = wb.nextSentence()\n",
        "sentence[1].affiche(mcd)\n",
        "print()\n",
        "for m in mcd:\n",
        "  print(sentence[1].getFeat(m[0]), \"\\t=>\\t\", m[0])  \n",
        "print()\n",
        "printSentence(sentence, mcd)"
      ],
      "execution_count": 0,
      "outputs": [
        {
          "output_type": "stream",
          "text": [
            "1 \tAviator \tAviator \tPROPN \t_ \t_ \t0 \troot \t_ \tSpaceAfter=No\n",
            " \t\n",
            "\n",
            "1 \t=>\t INDEX\n",
            "Aviator \t=>\t FORM\n",
            "Aviator \t=>\t LEMMA\n",
            "PROPN \t=>\t POS\n",
            "_ \t=>\t X1\n",
            "_ \t=>\t MORPHO\n",
            "0 \t=>\t GOV\n",
            "root \t=>\t LABEL\n",
            "_ \t=>\t X2\n",
            "SpaceAfter=No\n",
            " \t=>\t X3\n",
            "\n",
            "ROOT \tROOT \tROOT \tROOT \tROOT \tROOT \tROOT \tROOT \tROOT \tROOT \t\n",
            "1 \tAviator \tAviator \tPROPN \t_ \t_ \t0 \troot \t_ \tSpaceAfter=No\n",
            " \t\n",
            "2 \t, \t, \tPUNCT \t_ \t_ \t1 \tpunct \t_ \t_\n",
            " \t\n",
            "3 \tun \tun \tDET \t_ \tDefinite=Ind|Gender=Masc|Number=Sing|PronType=Art \t4 \tdet \t_ \t_\n",
            " \t\n",
            "4 \tfilm \tfilm \tNOUN \t_ \tGender=Masc|Number=Sing \t1 \tappos \t_ \t_\n",
            " \t\n",
            "5 \tsur \tsur \tADP \t_ \t_ \t7 \tcase \t_ \t_\n",
            " \t\n",
            "6 \tla \tle \tDET \t_ \tDefinite=Def|Gender=Fem|Number=Sing|PronType=Art \t7 \tdet \t_ \t_\n",
            " \t\n",
            "7 \tvie \tvie \tNOUN \t_ \tGender=Fem|Number=Sing \t4 \tnmod \t_ \t_\n",
            " \t\n",
            "8 \tde \tde \tADP \t_ \t_ \t9 \tcase \t_ \t_\n",
            " \t\n",
            "9 \tHughes \tHughes \tPROPN \t_ \t_ \t7 \tnmod \t_ \tSpaceAfter=No\n",
            " \t\n",
            "10 \t. \t. \tPUNCT \t_ \t_ \t1 \tpunct \t_ \t_\n",
            " \t\n"
          ],
          "name": "stdout"
        }
      ]
    },
    {
      "metadata": {
        "id": "Ew2nTce2IMuc",
        "colab_type": "text"
      },
      "cell_type": "markdown",
      "source": [
        "* **Dico**"
      ]
    },
    {
      "metadata": {
        "id": "37A7x-HwIPa0",
        "colab_type": "code",
        "outputId": "05b85ee7-4206-48c6-9f0c-a0fc093b20de",
        "colab": {
          "base_uri": "https://localhost:8080/",
          "height": 156
        }
      },
      "cell_type": "code",
      "source": [
        "print('populating dicos from file ', \"UD_French-GSD/fr_gsd-ud-train.conllu\")\n",
        "dicos = Dicos(mcd)\n",
        "dicos.populateFromConlluFile(path_fr+fr_train, verbose=False)\n",
        "dicos.lock()\n",
        "print('saving dicos in file ', sys.argv[2])\n",
        "dicos.printToFile(sys.argv[2])"
      ],
      "execution_count": 0,
      "outputs": [
        {
          "output_type": "stream",
          "text": [
            "populating dicos from file  UD_French-GSD/fr_gsd-ud-train.conllu\n",
            "DICO POS :\t 20 entries\n",
            "DICO GOV :\t 238 entries\n",
            "DICO LABEL :\t 54 entries\n",
            "DICO X2 :\t 3 entries\n",
            "DICO X3 :\t 60 entries\n",
            "saving dicos in file  /root/.local/share/jupyter/runtime/kernel-593806f2-5323-4009-adef-b8afe5056743.json\n"
          ],
          "name": "stdout"
        }
      ]
    },
    {
      "metadata": {
        "id": "BPAVejHE3H-R",
        "colab_type": "text"
      },
      "cell_type": "markdown",
      "source": [
        "* **Tous les labels contenu dans les fichiers**"
      ]
    },
    {
      "metadata": {
        "id": "6nUKpEhd3Icg",
        "colab_type": "code",
        "outputId": "7313e4ee-c828-4d0a-b68f-730e3ac19eb5",
        "colab": {
          "base_uri": "https://localhost:8080/",
          "height": 360
        }
      },
      "cell_type": "code",
      "source": [
        "label = []\n",
        "for f in liste_file:\n",
        "  wb = WordBuffer(mcd);\n",
        "  wb.readFromConlluFile(f);\n",
        "\n",
        "  X = []\n",
        "  Y = []\n",
        "  sentence = wb.nextSentence()\n",
        "  sentNb = 1\n",
        "  while sentence :\n",
        "    for i in range(1, len(sentence)):\n",
        "      Y.append(sentence[i].getFeat(\"LABEL\"))\n",
        "    sentNb += 1\n",
        "    sentence = wb.nextSentence()\n",
        "\n",
        "  Y = np.asarray(Y)\n",
        "\n",
        "  nv = []\n",
        "  [nv.append(item) for item in Y if not item in nv]\n",
        "  nv = np.asarray(nv)\n",
        "  print(f,\":\",nv.shape)\n",
        "  nv = sorted(nv)\n",
        "  for i in nv:\n",
        "    label.append(i)\n",
        "  \n",
        "nv = []\n",
        "[nv.append(item) for item in label if not item in nv]\n",
        "nv = sorted(nv)\n",
        "nv = np.asarray(nv)\n",
        "print(nv.shape)\n",
        "print(nv)"
      ],
      "execution_count": 0,
      "outputs": [
        {
          "output_type": "stream",
          "text": [
            "UD_English-LinES/en_lines-ud-dev.conllu : (37,)\n",
            "UD_English-LinES/en_lines-ud-test.conllu : (37,)\n",
            "UD_English-LinES/en_lines-ud-train.conllu : (37,)\n",
            "UD_French-GSD/fr_gsd-ud-dev.conllu : (46,)\n",
            "UD_French-GSD/fr_gsd-ud-test.conllu : (43,)\n",
            "UD_French-GSD/fr_gsd-ud-train.conllu : (51,)\n",
            "UD_Dutch-LassySmall/nl_lassysmall-ud-dev.conllu : (35,)\n",
            "UD_Dutch-LassySmall/nl_lassysmall-ud-test.conllu : (35,)\n",
            "UD_Dutch-LassySmall/nl_lassysmall-ud-train.conllu : (35,)\n",
            "UD_Japanese-Modern/ja_modern-ud-test.conllu : (21,)\n",
            "(54,)\n",
            "['acl' 'acl:relcl' 'advcl' 'advcl:cleft' 'advmod' 'amod' 'appos' 'aux'\n",
            " 'aux:caus' 'aux:pass' 'case' 'cc' 'ccomp' 'compound' 'compound:prt'\n",
            " 'conj' 'cop' 'csubj' 'csubj:pass' 'dep' 'det' 'discourse' 'dislocated'\n",
            " 'expl' 'expl:pass' 'expl:pv' 'fixed' 'flat' 'flat:foreign' 'flat:name'\n",
            " 'goeswith' 'iobj' 'iobj:agent' 'mark' 'nmod' 'nmod:poss' 'nmod:range'\n",
            " 'nsubj' 'nsubj:caus' 'nsubj:pass' 'nummod' 'obj' 'obj:agent' 'obl'\n",
            " 'obl:agent' 'obl:arg' 'obl:mod' 'orphan' 'parataxis' 'punct' 'reparandum'\n",
            " 'root' 'vocative' 'xcomp']\n"
          ],
          "name": "stdout"
        }
      ]
    },
    {
      "metadata": {
        "id": "_lnEbGz9envB",
        "colab_type": "text"
      },
      "cell_type": "markdown",
      "source": [
        "# Feature"
      ]
    },
    {
      "metadata": {
        "id": "NTADXOsdKjj7",
        "colab_type": "text"
      },
      "cell_type": "markdown",
      "source": [
        "## Transformation"
      ]
    },
    {
      "metadata": {
        "id": "WDVy9bg6T_Ur",
        "colab_type": "text"
      },
      "cell_type": "markdown",
      "source": [
        "### - LABEL"
      ]
    },
    {
      "metadata": {
        "id": "CjwdwctOK1Km",
        "colab_type": "text"
      },
      "cell_type": "markdown",
      "source": [
        "* **String -> Int**"
      ]
    },
    {
      "metadata": {
        "id": "wOtxBZqXK1gq",
        "colab_type": "code",
        "colab": {}
      },
      "cell_type": "code",
      "source": [
        "def lab_str_int(Y):\n",
        "  tab = len(Y)*[0]\n",
        "  for i in range(len(Y)):\n",
        "    tab[i] = LABEL[Y[i]]\n",
        "  return tab"
      ],
      "execution_count": 0,
      "outputs": []
    },
    {
      "metadata": {
        "id": "f25YW7RiPgI1",
        "colab_type": "text"
      },
      "cell_type": "markdown",
      "source": [
        "* **Int -> String**"
      ]
    },
    {
      "metadata": {
        "id": "DpyYCwtyPgDt",
        "colab_type": "code",
        "colab": {}
      },
      "cell_type": "code",
      "source": [
        "def lab_int_str(I):\n",
        "  L = list(LABEL.keys())\n",
        "  tab = len(I)*[0]\n",
        "  for i in range(len(I)):\n",
        "    tab[i] = L[I[i]]\n",
        "  return tab"
      ],
      "execution_count": 0,
      "outputs": []
    },
    {
      "metadata": {
        "id": "I8NwOaGmoKAR",
        "colab_type": "text"
      },
      "cell_type": "markdown",
      "source": [
        "### - POS"
      ]
    },
    {
      "metadata": {
        "id": "t7a3eaxQoMhk",
        "colab_type": "text"
      },
      "cell_type": "markdown",
      "source": [
        "- **String -> Int**"
      ]
    },
    {
      "metadata": {
        "id": "t7Q4-JzyoNHK",
        "colab_type": "code",
        "colab": {}
      },
      "cell_type": "code",
      "source": [
        "def pos_str_int(X):\n",
        "  tab = len(X)*[0]\n",
        "  for i in range(len(X)):\n",
        "    tab[i] = POS[X[i]]\n",
        "  return tab"
      ],
      "execution_count": 0,
      "outputs": []
    },
    {
      "metadata": {
        "id": "rt8cYrPdoNl-",
        "colab_type": "text"
      },
      "cell_type": "markdown",
      "source": [
        "- **Int -> String**"
      ]
    },
    {
      "metadata": {
        "id": "cgC8evt_oNfC",
        "colab_type": "code",
        "colab": {}
      },
      "cell_type": "code",
      "source": [
        "def pos_int_str(I):\n",
        "  P = list(POS.keys())\n",
        "  tab = len(I)*[0]\n",
        "  for i in range(len(I)):\n",
        "    tab[i] = P[I[i]]\n",
        "  return tab"
      ],
      "execution_count": 0,
      "outputs": []
    },
    {
      "metadata": {
        "id": "aJ6UP7Qb-0_-",
        "colab_type": "text"
      },
      "cell_type": "markdown",
      "source": [
        "## Differentes features"
      ]
    },
    {
      "metadata": {
        "id": "xLBU73JletPf",
        "colab_type": "text"
      },
      "cell_type": "markdown",
      "source": [
        "* **Feature 1**\n",
        "> $G.0.POS$     ->     retourne la partie de discours du gouverneur     \n",
        "> $D.0.POS$     ->     retourne la partie de discours du dépendant   \n",
        "> $DIST$           ->     retourne la distance entre G et D"
      ]
    },
    {
      "metadata": {
        "id": "OXaPtwnsesQ1",
        "colab_type": "code",
        "colab": {}
      },
      "cell_type": "code",
      "source": [
        "# Fonction de création de feature\n",
        "# X : data\n",
        "# Y : target\n",
        "def feature1(sentence):\n",
        "  X = []\n",
        "  Y = []\n",
        "  for i in range(1, len(sentence)):\n",
        "    if sentence[i].getFeat(\"GOV\") == \"_\":\n",
        "      break\n",
        "    d_ind = i                                     # indice du dépendant\n",
        "    g_ind = int(sentence[d_ind].getFeat(\"GOV\"))   # indice du gouverneur\n",
        "    label = sentence[d_ind].getFeat(\"LABEL\")      # label de la liaison\n",
        "    g_pos = sentence[g_ind].getFeat(\"POS\")        # partie de discours du gouverneur\n",
        "    d_pos = sentence[d_ind].getFeat(\"POS\")        # partie de discours du dépendant\n",
        "    dist = g_ind - d_ind                          # indice G - indice D\n",
        "    X.append([g_pos, d_pos, dist])\n",
        "    Y.append(label)\n",
        "  return X, Y"
      ],
      "execution_count": 0,
      "outputs": []
    },
    {
      "metadata": {
        "id": "eWcPQ4a6hhDK",
        "colab_type": "text"
      },
      "cell_type": "markdown",
      "source": [
        "* **Feature 2**\n",
        "> $G.0.POS$                   ->     retourne la partie de discours du gouverneur  \n",
        "> $G.0.LEMMA$           ->     retourne le lemme du gouverneur  \n",
        "> $G.0.MORPHO$        ->     retourne la morphologie du gouverneur  \n",
        "> $D.0.POS$                   ->     retourne la partie de discours du dépendant  \n",
        "> $D.0.LEMMA$           ->     retourne le lemme du dépendant  \n",
        "> $D.0.MORPHO$        ->     retourne la morphologie du dépendant  \n",
        "> $DIST$                          ->     retourne la distance entre G et D  "
      ]
    },
    {
      "metadata": {
        "id": "7kAi1MpYhhrB",
        "colab_type": "code",
        "colab": {}
      },
      "cell_type": "code",
      "source": [
        "# Fonction de création de feature\n",
        "# X : data\n",
        "# Y : target\n",
        "def feature2(sentence):\n",
        "  X = []\n",
        "  Y = []\n",
        "  for i in range(1, len(sentence)):\n",
        "    if sentence[i].getFeat(\"GOV\") == \"_\":\n",
        "      break\n",
        "    d_ind = i                                     # indice du dépendant\n",
        "    g_ind = int(sentence[d_ind].getFeat(\"GOV\"))   # indice du gouverneur\n",
        "    label = sentence[d_ind].getFeat(\"LABEL\")      # label de la liaison\n",
        "    g_pos = sentence[g_ind].getFeat(\"POS\")        # partie de discours du gouverneur\n",
        "    g_lem = sentence[g_ind].getFeat(\"LEMMA\")      # lemme du gouverneur\n",
        "    g_mor = sentence[g_ind].getFeat(\"MORPHO\")     # morphologie du gouverneur\n",
        "    d_pos = sentence[d_ind].getFeat(\"POS\")        # partie de discours du dépendant\n",
        "    d_lem = sentence[d_ind].getFeat(\"LEMMA\")      # lemme du dépendant\n",
        "    d_mor = sentence[d_ind].getFeat(\"MORPHO\")     # morphologie du dépendant\n",
        "    dist = g_ind - d_ind                          # indice G - indice D\n",
        "    X.append((g_pos, g_lem, g_mor, d_pos, d_lem, d_mor, dist))\n",
        "    Y.append((label))\n",
        "  return X, Y"
      ],
      "execution_count": 0,
      "outputs": []
    },
    {
      "metadata": {
        "id": "3Kjgz8pBhh6L",
        "colab_type": "text"
      },
      "cell_type": "markdown",
      "source": [
        "* **Feature 3**\n",
        "> $G.0.POS$                   ->     retourne la partie de discours du gouverneur  \n",
        "> $G.0.LEMMA$           ->     retourne le lemme du gouverneur  \n",
        "> $G.0.MORPHO$        ->     retourne la morphologie du gouverneur  \n",
        "> $G.-1.POS$                  ->     retourne la partie de discours du mot précédent le gouverneur  \n",
        "> $G.1.POS$                    ->     retourne la partie de discours du mot suivant le gouverneur  \n",
        "> $D.0.POS$                   ->     retourne la partie de discours du dépendant  \n",
        "> $D.0.LEMMA$           ->     retourne le lemme du dépendant  \n",
        "> $D.0.MORPHO$        ->     retourne la morphologie du dépendant  \n",
        "> $D.-1.POS$                  ->     retourne la partie de discours du mot précédent le dépendant  \n",
        "> $D.1.POS$                    ->     retourne la partie de discours du mot suivant le dépendant  \n",
        "> $DIST$                          ->     retourne la distance entre G et D  "
      ]
    },
    {
      "metadata": {
        "id": "7ix-bPmmhi7M",
        "colab_type": "code",
        "colab": {}
      },
      "cell_type": "code",
      "source": [
        "# Fonction de création de feature\n",
        "# X : data\n",
        "# Y : target\n",
        "def feature3(sentence):\n",
        "  X = []\n",
        "  Y = []\n",
        "  size = len(sentence)\n",
        "  for i in range(1, size):\n",
        "    if sentence[i].getFeat(\"GOV\") == \"_\":\n",
        "      break\n",
        "    d_ind = i                                     # indice du dépendant\n",
        "    g_ind = int(sentence[d_ind].getFeat(\"GOV\"))   # indice du gouverneur\n",
        "    label = sentence[d_ind].getFeat(\"LABEL\")      # label de la liaison\n",
        "    g_pos = sentence[g_ind].getFeat(\"POS\")        # partie de discours du gouverneur\n",
        "    g_lem = sentence[g_ind].getFeat(\"LEMMA\")      # lemme du gouverneur\n",
        "    g_mor = sentence[g_ind].getFeat(\"MORPHO\")     # morphologie du gouverneur\n",
        "      # partie de discours du mot avant G\n",
        "    g_min = sentence[g_ind-1].getFeat(\"POS\") if ((g_ind-1) >= 0) else '_'\n",
        "      # partie de discours du mot après G\n",
        "    g_add = sentence[g_ind+1].getFeat(\"POS\") if ((g_ind+1) < size) else '_'  \n",
        "    d_pos = sentence[d_ind].getFeat(\"POS\")        # partie de discours du dépendant\n",
        "    d_lem = sentence[d_ind].getFeat(\"LEMMA\")      # lemme du dépendant\n",
        "    d_mor = sentence[d_ind].getFeat(\"MORPHO\")     # morphologie du dépendant\n",
        "      # partie de discours du mot avant D\n",
        "    d_min = sentence[d_ind-1].getFeat(\"POS\") if ((d_ind-1) >= 0) else '_'\n",
        "      # partie de discours du mot après D\n",
        "    d_add = sentence[d_ind+1].getFeat(\"POS\") if ((d_ind+1) < size) else '_'\n",
        "    dist = g_ind - d_ind                          # indice G - indice D\n",
        "    X.append((g_pos, g_lem, g_mor, g_min, g_add, d_pos, d_lem, d_mor, d_min, d_add, dist))\n",
        "    Y.append((label))\n",
        "  return X, Y"
      ],
      "execution_count": 0,
      "outputs": []
    },
    {
      "metadata": {
        "id": "kBRTBLxi-7Mu",
        "colab_type": "text"
      },
      "cell_type": "markdown",
      "source": [
        "## Construction"
      ]
    },
    {
      "metadata": {
        "id": "YYTFh-v8-_fJ",
        "colab_type": "text"
      },
      "cell_type": "markdown",
      "source": [
        "* **feature 1**"
      ]
    },
    {
      "metadata": {
        "id": "uHeV4eJ8-9rt",
        "colab_type": "code",
        "colab": {}
      },
      "cell_type": "code",
      "source": [
        "# Constuction de la feature 1 sur le fichier 'path'\n",
        "# X : entrée pour l'apprentissage\n",
        "# Y : sortie pour l'apprentissage en one_hot\n",
        "\n",
        "def construct_feature_1(path_file):\n",
        "  wb = WordBuffer(mcd);\n",
        "  wb.readFromConlluFile(path_file);\n",
        "\n",
        "  X = []\n",
        "  Y = []\n",
        "  sentence = wb.nextSentence()\n",
        "  sentNb = 1\n",
        "  while sentence :\n",
        "    x, y = feature1(sentence)\n",
        "    for s in x:\n",
        "      X.append(s)\n",
        "    for s in y:\n",
        "      Y.append(s)\n",
        "    sentNb += 1\n",
        "    sentence = wb.nextSentence()\n",
        "\n",
        "  X = np.asarray(X)\n",
        "  Y = np.asarray(Y)\n",
        "  \n",
        "  x1 = X.T[0]\n",
        "  x2 = X.T[1]\n",
        "  x3 = X.T[2]\n",
        "  x1 = np.asarray(pos_str_int(x1))\n",
        "  x2 = np.asarray(pos_str_int(x2))\n",
        "  X = np.asarray([x1,x2,x3]).T\n",
        "  \n",
        "  Y = np.asarray(lab_str_int(Y))\n",
        "  Y = keras.utils.to_categorical(Y, num_classes=54)\n",
        "  \n",
        "  return X, Y"
      ],
      "execution_count": 0,
      "outputs": []
    },
    {
      "metadata": {
        "id": "AqynDFGG_C0P",
        "colab_type": "text"
      },
      "cell_type": "markdown",
      "source": [
        "* **feature 2**"
      ]
    },
    {
      "metadata": {
        "id": "xT3RK4n2_Csz",
        "colab_type": "code",
        "colab": {}
      },
      "cell_type": "code",
      "source": [
        "# Constuction de la feature 2 sur le fichier 'path'\n",
        "# X : entrée pour l'apprentissage\n",
        "# Y : sortie pour l'apprentissage\n",
        "\n",
        "def construct_feature_2(path_file):\n",
        "  wb = WordBuffer(mcd);\n",
        "  wb.readFromConlluFile(path_file);\n",
        "\n",
        "  X = []\n",
        "  Y = []\n",
        "  sentence = wb.nextSentence()\n",
        "  sentNb = 1\n",
        "  while sentence :\n",
        "    x, y = feature1(sentence)\n",
        "    for s in x:\n",
        "      X.append(s)\n",
        "    for s in y:\n",
        "      Y.append(s)\n",
        "    sentNb += 1\n",
        "    sentence = wb.nextSentence()\n",
        "\n",
        "  X = np.asarray(X)\n",
        "  Y = np.asarray(Y)\n",
        "\n",
        "  # Pas fini\n",
        "  \n",
        "  return X, Y"
      ],
      "execution_count": 0,
      "outputs": []
    },
    {
      "metadata": {
        "id": "CSSbk9rQ_ClC",
        "colab_type": "text"
      },
      "cell_type": "markdown",
      "source": [
        "* **feature 3**"
      ]
    },
    {
      "metadata": {
        "id": "CIFsrUMk_CcT",
        "colab_type": "code",
        "colab": {}
      },
      "cell_type": "code",
      "source": [
        "# Constuction de la feature 3 sur le fichier 'path'\n",
        "# X : entrée pour l'apprentissage\n",
        "# Y : sortie pour l'apprentissage\n",
        "\n",
        "def construct_feature_3(path_file):\n",
        "  wb = WordBuffer(mcd);\n",
        "  wb.readFromConlluFile(path_file);\n",
        "\n",
        "  X = []\n",
        "  Y = []\n",
        "  sentence = wb.nextSentence()\n",
        "  sentNb = 1\n",
        "  while sentence :\n",
        "    x, y = feature1(sentence)\n",
        "    for s in x:\n",
        "      X.append(s)\n",
        "    for s in y:\n",
        "      Y.append(s)\n",
        "    sentNb += 1\n",
        "    sentence = wb.nextSentence()\n",
        "\n",
        "  X = np.asarray(X)\n",
        "  Y = np.asarray(Y)\n",
        "\n",
        "  # Pas fini\n",
        "  \n",
        "  return X, Y"
      ],
      "execution_count": 0,
      "outputs": []
    },
    {
      "metadata": {
        "id": "4QHgbzPHJImQ",
        "colab_type": "text"
      },
      "cell_type": "markdown",
      "source": [
        "# **Apprentissage**"
      ]
    },
    {
      "metadata": {
        "id": "T0bN4QeqJE5m",
        "colab_type": "code",
        "outputId": "f853e364-d8db-4ba3-edd4-a0f0441dec06",
        "colab": {
          "base_uri": "https://localhost:8080/",
          "height": 238
        }
      },
      "cell_type": "code",
      "source": [
        "def create_model():\n",
        "  model = Sequential()\n",
        "  model.add(Dense(50, input_dim=3, activation='relu'))\n",
        "  model.add(Dense(54, activation = \"softmax\"))\n",
        "  model.compile(optimizer=\"Adam\",\n",
        "              loss='binary_crossentropy',\n",
        "              metrics=['accuracy'])\n",
        "  return model\n",
        "\n",
        "X, Y = construct_feature_1(path_fr + fr_train)\n",
        "m = create_model()\n",
        "m.fit(X, Y)\n",
        "m.summary()"
      ],
      "execution_count": 0,
      "outputs": [
        {
          "output_type": "stream",
          "text": [
            "Epoch 1/1\n",
            "356638/356638 [==============================] - 15s 43us/step - loss: 0.0272 - acc: 0.9908\n",
            "_________________________________________________________________\n",
            "Layer (type)                 Output Shape              Param #   \n",
            "=================================================================\n",
            "dense_5 (Dense)              (None, 50)                200       \n",
            "_________________________________________________________________\n",
            "dense_6 (Dense)              (None, 54)                2754      \n",
            "=================================================================\n",
            "Total params: 2,954\n",
            "Trainable params: 2,954\n",
            "Non-trainable params: 0\n",
            "_________________________________________________________________\n"
          ],
          "name": "stdout"
        }
      ]
    },
    {
      "metadata": {
        "id": "YuiT3dvycMYG",
        "colab_type": "text"
      },
      "cell_type": "markdown",
      "source": [
        "# Algorithme C.L.E."
      ]
    },
    {
      "metadata": {
        "id": "bPUVOG2jJRwr",
        "colab_type": "text"
      },
      "cell_type": "markdown",
      "source": [
        "* **Cycle**"
      ]
    },
    {
      "metadata": {
        "id": "g9aM4xaxJS34",
        "colab_type": "code",
        "colab": {}
      },
      "cell_type": "code",
      "source": [
        "# Fonction qui permet de voir si il y a un cycle\n",
        "# Param :\n",
        "#     tab -> Le 'graphe' à tester\n",
        "#     i -> Le nombre de sommets définis\n",
        "def contain_cycle(tab, I, size):\n",
        "  C = []\n",
        "  \n",
        "  for i in I:\n",
        "    verif = [False]*size\n",
        "    verif[i] = True\n",
        "    t = tab[i]\n",
        "    while (tab[t] != -1) == True:\n",
        "      C.append(t)\n",
        "      if verif[t] == True:\n",
        "        t = -1\n",
        "        return C, True\n",
        "      verif[t] = True\n",
        "      t = tab[t]\n",
        "  \n",
        "  \n",
        "  return C, False"
      ],
      "execution_count": 0,
      "outputs": []
    },
    {
      "metadata": {
        "id": "z9gNQVF9aEgm",
        "colab_type": "code",
        "outputId": "92a44fd9-9200-4aa8-804a-2bf2d134e3e0",
        "colab": {
          "base_uri": "https://localhost:8080/",
          "height": 54
        }
      },
      "cell_type": "code",
      "source": [
        "!pip install networkx"
      ],
      "execution_count": 1,
      "outputs": [
        {
          "output_type": "stream",
          "text": [
            "Requirement already satisfied: networkx in /usr/local/lib/python3.6/dist-packages (2.2)\n",
            "Requirement already satisfied: decorator>=4.3.0 in /usr/local/lib/python3.6/dist-packages (from networkx) (4.3.0)\n"
          ],
          "name": "stdout"
        }
      ]
    },
    {
      "metadata": {
        "id": "z_kExcrxhQgF",
        "colab_type": "code",
        "colab": {}
      },
      "cell_type": "code",
      "source": [
        "import numpy as np\n",
        "import networkx as nx\n",
        "import matplotlib.pyplot as plt"
      ],
      "execution_count": 0,
      "outputs": []
    },
    {
      "metadata": {
        "id": "uO3uUo_Enlvw",
        "colab_type": "code",
        "colab": {}
      },
      "cell_type": "code",
      "source": [
        "ROOT = 'Root'\n",
        "\n",
        "def find_bestInEdge(G, v):\n",
        "  maxW = float('-inf')\n",
        "  bestInEdge = None\n",
        "  for e in G.in_edges(v, keys=True, data=True):\n",
        "    weight = e[3]['weight']\n",
        "    if(weight > maxW):\n",
        "      maxW = weight\n",
        "      bestInEdge = e\n",
        "  return bestInEdge\n",
        "\n",
        "def node_generator():\n",
        "  i = 0\n",
        "  while(True):\n",
        "    n = 'C%d' % (i)\n",
        "    yield n\n",
        "    i+=1\n",
        "\n",
        "def contract(G, C, KO, CN):\n",
        "\n",
        "  ### 1. On récupère les sommets du cycle\n",
        "  L = []\n",
        "  C_nokey = []\n",
        "  D = {}#stocke la data associé à l'arc entrant d'un sommet du cycle : D[v] : la data du sommet entrant dans v\n",
        "  for u, v, k in C:\n",
        "    L.append(u)\n",
        "    L.append(v)\n",
        "    C_nokey.append((u,v))\n",
        "    data = G[u][v][k]\n",
        "    D[v] = data\n",
        "  L = list(set(L))\n",
        "  #print(L)\n",
        "  #print(D)\n",
        "  #dict sommet qui prends l'entrée value, poid de l'entrée\n",
        "\n",
        "  ### 2. On copie G, on ajoute un sommet avec un nom obtenu par gen ie : C1, C2, ...\n",
        "  H = G.copy()\n",
        "  N = next(CN)\n",
        "  H.add_node(N)  \n",
        "  ### 3. Avant de supprimer chacun des sommets du cycle, on récupère ses arcs, on modifie les poids et on les relie sur le nouveau sommet\n",
        "  for v in L:\n",
        "    #On supprime v du nouveau graphe\n",
        "    H.remove_node(v)\n",
        "    #On récupère les arcs entrant dans v\n",
        "    for u, _, k, data in G.in_edges(v, keys=True, data=True): # v == vv\n",
        "      if((u, v, k) not in set(C) and u not in L):#u not in L suffisant ???\n",
        "        newW = data['weight'] - D[v]['weight']\n",
        "        H.add_edge(u, N, weight=newW, id=data['id'])\n",
        "        KO[data['id']].append(D[v]['id']) #l'id de u->v kick l'id de l'ex meilleur arc u->v    \n",
        "    \n",
        "    #arcs sortants\n",
        "    for _, u, k, data in G.out_edges(v, keys=True, data=True):\n",
        "      if((v, u, k) not in set(C) and u not in L):\n",
        "        H.add_edge(N, u, weight=data['weight'], id=data['id'])\n",
        "  \n",
        "  return H\n",
        "\n",
        "def expand(subBIE, bIE, G, KO):\n",
        "  H = nx.MultiDiGraph()\n",
        "  \n",
        "  E = bIE.edges(data=True)\n",
        "  Locked = []\n",
        "\n",
        "  for _, _, data in subBIE.edges(data=True):\n",
        "    #on conserve l'id des arêtes à ajouter à l'arbre\n",
        "    Locked.append(data['id'])\n",
        "    \n",
        "    #KicksOut supprime des arêtes\n",
        "    for i in KO[data['id']]:\n",
        "      #i est l'id d'une arête à ne pas ajouter/supprimer\n",
        "      E = [x for x in E if x[2]['id'] != i]\n",
        "  \n",
        "  #poser la la condition de doublon dans le cas de récursivité trop profonde ?\n",
        "  \n",
        "  #Ajout des arêtes\n",
        "  for u, v, data in G.edges(data=True):\n",
        "    if data['id'] in Locked:\n",
        "      H.add_edge(u, v, weight=data['weight'], id=data['id'])\n",
        "\n",
        "  for u, v, data in E:\n",
        "    if not H.has_edge(u, v):\n",
        "      H.add_edge(u, v, weight=data['weight'], id=data['id'])\n",
        "  \n",
        "  return H\n",
        "\n",
        "#def maxSpanningTree()\n",
        "def maxSpanningTree(G, root, KicksOut, CN):\n",
        "  bIE = nx.MultiDiGraph()\n",
        "  bIE.add_nodes_from(G.nodes)\n",
        "  for v in G.nodes:\n",
        "    if(v != root):\n",
        "      #On ajoute l'arc dans le spanning tree\n",
        "      e = find_bestInEdge(G, v)\n",
        "      if(e != None):#inutile mais au cas où\n",
        "        \n",
        "        bIE.add_edge(e[0], e[1], e[2], weight=e[3]['weight'], id=e[3]['id'])\n",
        "        \n",
        "        try:\n",
        "          C = nx.find_cycle(bIE)\n",
        "\n",
        "          G_prime = contract(G, C, KicksOut, CN)\n",
        "          #print for debug\n",
        "          #print('bIE : ', bIE.edges(data=True))\n",
        "          #print('C : ', C)\n",
        "          #print('G : ', G.edges(data=True))\n",
        "          #print('G_prime : ', G_prime.edges(data=True))\n",
        "          #print('G_prime :', G_prime.nodes)\n",
        "          #nx.draw(G_prime, with_labels=True)\n",
        "          #plt.axis('off')\n",
        "          #plt.show()\n",
        "          \n",
        "          subBIE = maxSpanningTree(G_prime, root, KicksOut, CN)\n",
        "          \n",
        "          return expand(subBIE, bIE, G, KicksOut)\n",
        "\n",
        "        except nx.NetworkXNoCycle:\n",
        "          pass\n",
        "  #Un arbre a pu être créer de manière gloutonnne\n",
        "  return bIE\n",
        "\n",
        "def CLE(G, root):\n",
        "  contract_node = node_generator()\n",
        "  KicksOut = {}\n",
        "  for i in range(G.number_of_edges()):\n",
        "    KicksOut[i] = []\n",
        "  return maxSpanningTree(G, root, KicksOut, contract_node)"
      ],
      "execution_count": 0,
      "outputs": []
    },
    {
      "metadata": {
        "id": "NDlqhexBYNC0",
        "colab_type": "code",
        "colab": {}
      },
      "cell_type": "code",
      "source": [
        "def ids():\n",
        "  i = 0\n",
        "  while(True):\n",
        "    yield i\n",
        "    i+=1\n",
        "\n",
        "def gen_test_graph():\n",
        "  G = nx.MultiDiGraph()\n",
        "  gen = ids()\n",
        "  G.add_nodes_from([ROOT, 'V1', 'V2', 'V3'])\n",
        "  G.add_edge(ROOT, 'V1', weight=5, id=next(gen))#a\n",
        "  G.add_edge(ROOT, 'V2', weight=1, id=next(gen))#b\n",
        "  G.add_edge(ROOT, 'V3', weight=1, id=next(gen))#c\n",
        "  G.add_edge('V1', 'V2', weight=11, id=next(gen))#d\n",
        "  G.add_edge('V1', 'V3', weight=4, id=next(gen))#e\n",
        "  G.add_edge('V2', 'V3', weight=5, id=next(gen))#f\n",
        "  G.add_edge('V2', 'V1', weight=10, id=next(gen))#g\n",
        "  G.add_edge('V3', 'V1', weight=9, id=next(gen))#h\n",
        "  G.add_edge('V3', 'V2', weight=8, id=next(gen))#i\n",
        "  return G\n",
        "\n",
        "def gen_test_exam():\n",
        "  G = nx.MultiDiGraph()\n",
        "  gen = ids()\n",
        "  G.add_nodes_from([ROOT, \"route\", \"sur\", \"la\"])\n",
        "  G.add_edge(ROOT, \"sur\", weight=-2, id=next(gen))\n",
        "  G.add_edge(ROOT, \"route\", weight=1, id=next(gen))\n",
        "  G.add_edge('route', \"la\", weight=1, id=next(gen))\n",
        "  G.add_edge('route', \"sur\", weight=2, id=next(gen))\n",
        "  G.add_edge('sur', \"route\", weight=2, id=next(gen))\n",
        "  return G"
      ],
      "execution_count": 0,
      "outputs": []
    },
    {
      "metadata": {
        "id": "jLeIuQV8ny2a",
        "colab_type": "code",
        "colab": {
          "base_uri": "https://localhost:8080/",
          "height": 444
        },
        "outputId": "9a1bcd71-93e2-4de6-c566-1f90d8eb0485"
      },
      "cell_type": "code",
      "source": [
        "#G_test = gen_test_graph()\n",
        "G_test = gen_test_exam()\n",
        "nx.draw(G_test, with_labels=True)"
      ],
      "execution_count": 100,
      "outputs": [
        {
          "output_type": "display_data",
          "data": {
            "image/png": "[encoded data removed]",
            "text/plain": [
              "<matplotlib.figure.Figure at 0x7f5670998358>"
            ]
          },
          "metadata": {
            "tags": []
          }
        }
      ]
    },
    {
      "metadata": {
        "id": "C0lDmza2QCJT",
        "colab_type": "code",
        "colab": {}
      },
      "cell_type": "code",
      "source": [
        "Tree = CLE(G_test, ROOT)"
      ],
      "execution_count": 0,
      "outputs": []
    },
    {
      "metadata": {
        "id": "FkoaIMVmRuic",
        "colab_type": "code",
        "colab": {
          "base_uri": "https://localhost:8080/",
          "height": 462
        },
        "outputId": "cb63c42b-4c0d-4a02-b01e-e613170bcbc6"
      },
      "cell_type": "code",
      "source": [
        "nx.draw(Tree, with_labels=True)\n",
        "\n",
        "print(Tree.edges(data=True))"
      ],
      "execution_count": 102,
      "outputs": [
        {
          "output_type": "stream",
          "text": [
            "[('Root', 'route', {'weight': 1, 'id': 1}), ('route', 'la', {'weight': 1, 'id': 2}), ('route', 'sur', {'weight': 2, 'id': 3})]\n"
          ],
          "name": "stdout"
        },
        {
          "output_type": "display_data",
          "data": {
            "image/png": "[encoded data removed]",
            "text/plain": [
              "<matplotlib.figure.Figure at 0x7f5670664860>"
            ]
          },
          "metadata": {
            "tags": []
          }
        }
      ]
    },
    {
      "metadata": {
        "id": "EGS48o1MlxiS",
        "colab_type": "code",
        "colab": {
          "base_uri": "https://localhost:8080/",
          "height": 35
        },
        "outputId": "83c190b1-5ed6-4873-8236-7baf42f2d4ea"
      },
      "cell_type": "code",
      "source": [
        "a= []\n",
        "a.append((5,6))\n",
        "a.append((4,3))\n",
        "a"
      ],
      "execution_count": 72,
      "outputs": [
        {
          "output_type": "execute_result",
          "data": {
            "text/plain": [
              "[(5, 6), (4, 3)]"
            ]
          },
          "metadata": {
            "tags": []
          },
          "execution_count": 72
        }
      ]
    },
    {
      "metadata": {
        "id": "zdKD4gW_JSi1",
        "colab_type": "text"
      },
      "cell_type": "markdown",
      "source": [
        "* **Chu Liu Edmonds**"
      ]
    },
    {
      "metadata": {
        "id": "sfOUTihIZW0O",
        "colab_type": "code",
        "outputId": "00148200-1e1d-46b0-ebf8-4edb72ac56ce",
        "colab": {
          "base_uri": "https://localhost:8080/",
          "height": 68
        }
      },
      "cell_type": "code",
      "source": [
        "G = np.asarray([\n",
        "   [0, 5, 1, 1],\n",
        "   [0, 0,11, 4],\n",
        "   [0,10, 0, 5],\n",
        "   [0, 9, 8, 0]\n",
        "])\n",
        "\n",
        "def CLE(Graph, root):\n",
        "  I = []\n",
        "  MAE = G.shape[0]*[-1]\n",
        "  for i in range(1, G.shape[0]):\n",
        "    MAE[i] = np.argmax(G[i])\n",
        "    I.append(i)\n",
        "    C, boolean = contain_cycle(MAE, I, G.shape[0])\n",
        "    if boolean == True:\n",
        "      print(\"cycle avec i =\", i, \"et\", C)\n",
        "      break\n",
        "  return np.asarray(MAE)\n",
        "  \n",
        "  \n",
        "tab = CLE(G, 0)\n",
        "print(tab)\n",
        "\n",
        "m = np.argmax(G, axis=1)\n",
        "print(m)"
      ],
      "execution_count": 0,
      "outputs": [
        {
          "output_type": "stream",
          "text": [
            "cycle avec i = 2 et [2, 1]\n",
            "[-1  2  1 -1]\n",
            "[1 2 1 1]\n"
          ],
          "name": "stdout"
        }
      ]
    }
  ]
}